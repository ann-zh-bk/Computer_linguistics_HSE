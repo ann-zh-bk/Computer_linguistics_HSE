{
  "nbformat": 4,
  "nbformat_minor": 0,
  "metadata": {
    "colab": {
      "provenance": []
    },
    "kernelspec": {
      "name": "python3",
      "display_name": "Python 3"
    },
    "language_info": {
      "name": "python"
    }
  },
  "cells": [
    {
      "cell_type": "markdown",
      "source": [
        "#Домашняя работа 1\n",
        "Время на выполнение: **с 15 ноября по 30 ноября 2023**\n",
        "\n",
        "Сдача после 30.11.2023 возможна с понижением баллов"
      ],
      "metadata": {
        "id": "cJrbXTJYj1Vx"
      }
    },
    {
      "cell_type": "markdown",
      "source": [
        "## Задача 1\n",
        "### Условный оператор if-elif-else\n",
        "\n",
        "В Вышке научились измерять душевную боль... (Это правда: [Источник](https://iq.hse.ru/news/760718471.html))\n",
        "\n",
        "Давайте тоже предложим свою шкалу!"
      ],
      "metadata": {
        "id": "_iLN1A20j8Dg"
      }
    },
    {
      "cell_type": "markdown",
      "source": [
        "В ячейке ниже - код \"определителя душевной боли\" от 1 до 10. Давайте его улучшим:\n",
        "\n",
        "* добавьте условие для случаев, если пользователь вводит число больше 10\n",
        "\n",
        "* добавьте еще два условия, чтобы разделение на категории душевной боли было еще точнее\n",
        "* добавьте к вещественным числам примеры, чтобы пользователю было легче оценить свою душевную боль (например, шкала от утреннего кофе, пролитого на рубашку, до студента на сессии...)\n",
        "\n",
        "Подсказка: будет легче, если нарисовать себе схему условий на бумаге\n",
        "\n"
      ],
      "metadata": {
        "id": "-3ReUhPtvDXk"
      }
    },
    {
      "cell_type": "code",
      "source": [
        "# определитель душевной боли\n",
        "\n",
        "a = float(input('Оцените силу вашей душевной боли по шкале от 0 до 10: '))\n",
        "if a < 0.7:\n",
        "    print('Кажется, вы испытываете легкое огорчение. Как человек в короткой поездке в метро, забывший дома наушники')\n",
        "elif 0.7 <= a <= 4.2:\n",
        "    print('Вы встревожены - почти как человек, которому придется звонить по телефону, и это в эпоху мессенджеров! То самое чувство, когда начинаете нервно репетировать в голове диалог...')\n",
        "elif 4.3 <= a <= 7.8:\n",
        "    print(\"Вы значительно встревожены - как будто вам грозит увольнение с работы\")\n",
        "elif 7.9 <= a <= 10:\n",
        "    print('Вы в панике - как будто террористы взяли вас в заложники')\n",
        "else:\n",
        "    print('Вам следует срочно обратиться к специалисту')\n",
        "\n",
        "\n",
        "# продолжите программу дальше\n",
        "# примеры и значения выше можно заменить на ваши\n"
      ],
      "metadata": {
        "id": "bK-muzTkuSrp",
        "outputId": "53bbfa77-6b63-4d40-9b4e-ba1f4e757c53",
        "colab": {
          "base_uri": "https://localhost:8080/"
        }
      },
      "execution_count": 1,
      "outputs": [
        {
          "output_type": "stream",
          "name": "stdout",
          "text": [
            "Оцените силу вашей душевной боли по шкале от 0 до 10: 6\n",
            "Вы значительно встревожены - как будто вам грозит увольнение с работы\n"
          ]
        }
      ]
    },
    {
      "cell_type": "markdown",
      "source": [
        "## Задача 2\n",
        "### Список, цикл for\n",
        "\n",
        "Робот, выбирающий пользователю коктейль:\n",
        "\n",
        "Представьте, что Вы разрабатываете (фрагмент) электронного помощника для ресторана.\n",
        "\n",
        "У Вас есть список коктейлей, где каждый коктейль представлен в виде списка ингридиентов (у нас получается список списков). Программа рандомным образом должна выбрать один из коктейлей (т.е. один из списков в общем списке) и вывести на экран сообщение: \"Сегодня в вашем коктейле будет: \" и сам список ингридиентов\n",
        "\n",
        "Но есть одно условие: в некоторые из списков по ошибке попал \"лосось\". Строку \"лосось\" нужно убрать (здесь вам поможет один метод работы со списками) ,но так как лосось есть не везде, нужно предварительно проверить его наличие в списке."
      ],
      "metadata": {
        "id": "9sdH0TO1_m5G"
      }
    },
    {
      "cell_type": "code",
      "source": [
        "import random\n",
        "\n",
        "cocktails = [\n",
        "    [\"мартини\",\"грейпфрутовый сок\",\"жасмин\",\"тоник\",\"лосось\"],\n",
        "    [\"клубника\",\"какао\",\"мята\",\"марсала\"],\n",
        "    [\"водка\",\"томатный сок\",\"лимонный сок\",\"вустерширский соус\",\"черный перец\",\"сельдерей\",\"лосось\"],\n",
        "    [\"джин\",\"вермут\",\"ликер мараскино\",\"апельсины\",\"коктейльная вишня\",\"лосось\"],\n",
        "    [\"ром\",\"авокадо\",\"сахарный сироп\",\"сливки\",\"лимонный сок\",\"лед\"],\n",
        "    [\"красный вермут\",\"тоник\",\"апельсины\",\"лосось\"],\n",
        "    [\"только чай\"]\n",
        "        ]\n",
        "\n",
        "# ваш код здесь"
      ],
      "metadata": {
        "id": "wLCxa1d2uUYs"
      },
      "execution_count": 2,
      "outputs": []
    },
    {
      "cell_type": "code",
      "source": [
        "for cocktail in cocktails:\n",
        "  if \"лосось\" in cocktail:\n",
        "    cocktail.remove(\"лосось\")\n",
        "r=random.choice (cocktails)\n",
        "print('Сегодня в вашем коктейле будет ', r)"
      ],
      "metadata": {
        "id": "J-WEQax6ssSX",
        "outputId": "d303d199-0ee1-4a52-8adc-dbfb77e8bd03",
        "colab": {
          "base_uri": "https://localhost:8080/"
        }
      },
      "execution_count": 37,
      "outputs": [
        {
          "output_type": "stream",
          "name": "stdout",
          "text": [
            "Сегодня в вашем коктейле будет  ['джин', 'вермут', 'ликер мараскино', 'апельсины', 'коктейльная вишня']\n"
          ]
        }
      ]
    },
    {
      "cell_type": "markdown",
      "source": [
        "## Задача 3\n",
        "### Множества и словари"
      ],
      "metadata": {
        "id": "840zUYgtxx_o"
      }
    },
    {
      "cell_type": "markdown",
      "source": [
        "Алиса коллекционирует открыткм, которые она получила из разных стран от друзей. Она знает, что Мария прислала ей открытку из Лондона, Лоренцо -- из Милана, Олег - из Канберры, Ханс -- из Кальгари, Марк -- тоже из Милана, Алекс - из Кракова, и совсем недавно пришла открытка от Юлии из Мурманска.\n",
        "\n",
        "Сейчас ее архив выглядит вот так:\n"
      ],
      "metadata": {
        "id": "p3pqApP1yFoY"
      }
    },
    {
      "cell_type": "code",
      "source": [
        "postcards = {\n",
        "    \"Maria\": \"London\",\n",
        "    \"Lorenzo\": \"Milan\",\n",
        "    \"Oleg\": \"Canberra\",\n",
        "    \"Hans\": \"Calgary\",\n",
        "    \"Mark\": \"Milan\",\n",
        "    \"Alex\": \"Krakow\",\n",
        "    \"Julia\": \"Murmansk\"\n",
        "}"
      ],
      "metadata": {
        "id": "Yqu617qHuYoq"
      },
      "execution_count": 38,
      "outputs": []
    },
    {
      "cell_type": "markdown",
      "source": [
        "Однажды Алиса показала Вам свою бумажную коллекцию, и Вы заметили неточности:\n",
        "\n",
        "* в архиве не хватает двух открыток: от Петры из Парижа и от Ивана из Москвы. Добавьте их в архив Алисы.\n",
        "\n",
        "* открытка, присланная Олегом на самом деле не из Канберры, а из Сиднея. Исправьте город на верный, изменив значение по ключу в словаре.\n",
        "\n",
        "* Алиса говорит, что в ее коллекции более 10 уникальных городов. Сколько их на самом деле? Выведите названия этих городов."
      ],
      "metadata": {
        "id": "dB6o3dTayMWB"
      }
    },
    {
      "cell_type": "code",
      "source": [
        "# ваш код здесь\n",
        "new_dict = {\"Petra\" : \"Paris\", \"Ivan\": \"Moscow\"}\n",
        "postcards.update(new_dict)\n",
        "postcards"
      ],
      "metadata": {
        "id": "IyLVQu16uWNs",
        "outputId": "f72b58e1-c849-403e-b296-266160daabaf",
        "colab": {
          "base_uri": "https://localhost:8080/"
        }
      },
      "execution_count": 40,
      "outputs": [
        {
          "output_type": "execute_result",
          "data": {
            "text/plain": [
              "{'Maria': 'London',\n",
              " 'Lorenzo': 'Milan',\n",
              " 'Oleg': 'Canberra',\n",
              " 'Hans': 'Calgary',\n",
              " 'Mark': 'Milan',\n",
              " 'Alex': 'Krakow',\n",
              " 'Julia': 'Murmansk',\n",
              " 'Petra': 'Paris',\n",
              " 'Ivan': 'Moscow'}"
            ]
          },
          "metadata": {},
          "execution_count": 40
        }
      ]
    },
    {
      "cell_type": "code",
      "source": [
        "postcards[\"Oleg\"]=\"Sydney\"\n",
        "postcards"
      ],
      "metadata": {
        "id": "RUILnTZR0H3E",
        "outputId": "acb2426c-4106-4257-9e93-3bc221276d95",
        "colab": {
          "base_uri": "https://localhost:8080/"
        }
      },
      "execution_count": 41,
      "outputs": [
        {
          "output_type": "execute_result",
          "data": {
            "text/plain": [
              "{'Maria': 'London',\n",
              " 'Lorenzo': 'Milan',\n",
              " 'Oleg': 'Sydney',\n",
              " 'Hans': 'Calgary',\n",
              " 'Mark': 'Milan',\n",
              " 'Alex': 'Krakow',\n",
              " 'Julia': 'Murmansk',\n",
              " 'Petra': 'Paris',\n",
              " 'Ivan': 'Moscow'}"
            ]
          },
          "metadata": {},
          "execution_count": 41
        }
      ]
    },
    {
      "cell_type": "code",
      "source": [
        "s = set(postcards.values())\n",
        "print(s)"
      ],
      "metadata": {
        "id": "qhowaotn3Lia",
        "outputId": "e197654a-09e6-488e-c49e-1ab347a0bc90",
        "colab": {
          "base_uri": "https://localhost:8080/"
        }
      },
      "execution_count": 50,
      "outputs": [
        {
          "output_type": "stream",
          "name": "stdout",
          "text": [
            "{'Calgary', 'Krakow', 'Murmansk', 'Paris', 'Moscow', 'London', 'Sydney', 'Milan'}\n"
          ]
        }
      ]
    },
    {
      "cell_type": "code",
      "source": [
        "len(s)"
      ],
      "metadata": {
        "id": "c87nV-JO7_UA",
        "outputId": "5fc6d73a-99c7-4d83-dc2e-952d72443de0",
        "colab": {
          "base_uri": "https://localhost:8080/"
        }
      },
      "execution_count": 51,
      "outputs": [
        {
          "output_type": "execute_result",
          "data": {
            "text/plain": [
              "8"
            ]
          },
          "metadata": {},
          "execution_count": 51
        }
      ]
    },
    {
      "cell_type": "markdown",
      "source": [
        "В множестве всего 8 уникальных городов."
      ],
      "metadata": {
        "id": "oPwujLtD88_f"
      }
    }
  ]
}