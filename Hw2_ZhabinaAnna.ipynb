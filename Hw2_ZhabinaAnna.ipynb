{
  "nbformat": 4,
  "nbformat_minor": 0,
  "metadata": {
    "colab": {
      "provenance": []
    },
    "kernelspec": {
      "name": "python3",
      "display_name": "Python 3"
    },
    "language_info": {
      "name": "python"
    }
  },
  "cells": [
    {
      "cell_type": "markdown",
      "source": [
        "# Домашнее задание 2\n",
        "\n",
        "## pandas + парсинг\n",
        "\n",
        "Здесь находится главная страница [Системного блока](https://sysblok.ru)\n",
        "\n",
        "Соберите корпус новостей (можно спарсить все новости или небольшую часть)\n",
        "\n",
        "Дедлайн: 31 декабря включительно"
      ],
      "metadata": {
        "id": "gWKJuEre_u-N"
      }
    },
    {
      "cell_type": "code",
      "execution_count": 1,
      "metadata": {
        "id": "pSRHGrfg_dpE"
      },
      "outputs": [],
      "source": [
        "# необходимые импорты\n",
        "import requests as rq\n",
        "from bs4 import BeautifulSoup\n",
        "import pandas as pd\n",
        "import regex as re"
      ]
    },
    {
      "cell_type": "markdown",
      "source": [
        "### шаг 1"
      ],
      "metadata": {
        "id": "F-WJ-h_PA9Bf"
      }
    },
    {
      "cell_type": "code",
      "source": [
        "# соберите все ссылки на страницы с новостями (цикл for + range)\n",
        "# 1 страница: https://sysblok.ru\n",
        "# 2 страница: https://sysblok.ru/page/2\n",
        "# последняя: https://sysblok.ru/page/16\n",
        "\n",
        "all_page = ['https://sysblok.ru', ]\n",
        "\n",
        "for number in range(2,17):\n",
        "  link = 'https://sysblok.ru' + '/page/' + str(number)\n",
        "  all_page.append(link)\n",
        "\n",
        "all_page"
      ],
      "metadata": {
        "id": "1EZIxFPfAeV3",
        "outputId": "57ffdc0b-e71d-41d0-a5e5-dc61bb2970ff",
        "colab": {
          "base_uri": "https://localhost:8080/"
        }
      },
      "execution_count": 2,
      "outputs": [
        {
          "output_type": "execute_result",
          "data": {
            "text/plain": [
              "['https://sysblok.ru',\n",
              " 'https://sysblok.ru/page/2',\n",
              " 'https://sysblok.ru/page/3',\n",
              " 'https://sysblok.ru/page/4',\n",
              " 'https://sysblok.ru/page/5',\n",
              " 'https://sysblok.ru/page/6',\n",
              " 'https://sysblok.ru/page/7',\n",
              " 'https://sysblok.ru/page/8',\n",
              " 'https://sysblok.ru/page/9',\n",
              " 'https://sysblok.ru/page/10',\n",
              " 'https://sysblok.ru/page/11',\n",
              " 'https://sysblok.ru/page/12',\n",
              " 'https://sysblok.ru/page/13',\n",
              " 'https://sysblok.ru/page/14',\n",
              " 'https://sysblok.ru/page/15',\n",
              " 'https://sysblok.ru/page/16']"
            ]
          },
          "metadata": {},
          "execution_count": 2
        }
      ]
    },
    {
      "cell_type": "markdown",
      "source": [
        "### шаг 2"
      ],
      "metadata": {
        "id": "XeIBEKGyA-pn"
      }
    },
    {
      "cell_type": "code",
      "source": [
        "# с каждой страницы соберите ссылки на отдельные новости\n",
        "# подсказка: родительский тег h2 (проверяйте по нему), нужный нам - a\n",
        "\n",
        "#all_links = []\n",
        "\n",
        "# ваш код\n",
        "all_links = []\n",
        "for page in all_page:\n",
        "  url = page\n",
        "  p = rq.get(url) # загружаем страницу по ссылке\n",
        "  soup = BeautifulSoup(p.text, features=\"html.parser\")\n",
        "  for i in soup.find_all('a'):\n",
        "    if i.parent.name == 'h2':\n",
        "      #i = (i.get('href'), sep=', ')\n",
        "      all_links.append(i.get('href'))\n"
      ],
      "metadata": {
        "id": "x9ti7TfWA7VN"
      },
      "execution_count": 4,
      "outputs": []
    },
    {
      "cell_type": "markdown",
      "source": [
        "### шаг 3\n",
        "\n",
        "работаем с 1 новостью:\n",
        "\n",
        "нас интересует название, автор, дата публикации, текст (дополнительно можно спарсить тематические категории)"
      ],
      "metadata": {
        "id": "tMfZa9Y-Bbtn"
      }
    },
    {
      "cell_type": "code",
      "source": [
        "url2 = 'https://sysblok.ru/education/defenestracija-ne-ne-slyshal/'"
      ],
      "metadata": {
        "id": "rULwha7LQzuq"
      },
      "execution_count": 5,
      "outputs": []
    },
    {
      "cell_type": "code",
      "source": [
        "page2 = rq.get(url2)\n",
        "\n",
        "print(page2)"
      ],
      "metadata": {
        "colab": {
          "base_uri": "https://localhost:8080/"
        },
        "id": "3NRek7VMRC_X",
        "outputId": "8fb77b12-319b-4e35-95cd-969c5832d9e8"
      },
      "execution_count": 6,
      "outputs": [
        {
          "output_type": "stream",
          "name": "stdout",
          "text": [
            "<Response [200]>\n"
          ]
        }
      ]
    },
    {
      "cell_type": "code",
      "source": [
        "print(page2.text)"
      ],
      "metadata": {
        "id": "2JDP2FAPRNYh"
      },
      "execution_count": null,
      "outputs": []
    },
    {
      "cell_type": "code",
      "source": [
        "soup2 = BeautifulSoup(page2.text, features=\"html.parser\")"
      ],
      "metadata": {
        "id": "B1ISv7i-RNhA"
      },
      "execution_count": 8,
      "outputs": []
    },
    {
      "cell_type": "code",
      "source": [
        "print(soup2)"
      ],
      "metadata": {
        "id": "8uXptnEsRNog"
      },
      "execution_count": null,
      "outputs": []
    },
    {
      "cell_type": "code",
      "source": [
        "print(soup2.prettify())"
      ],
      "metadata": {
        "id": "oD0_4KuVN9U9"
      },
      "execution_count": null,
      "outputs": []
    },
    {
      "cell_type": "code",
      "source": [
        "# для парсинга даты: извлеките текст из тега time\n",
        "soup2.find_all('time')[0].text"
      ],
      "metadata": {
        "id": "8bFB7G4uB6b3",
        "colab": {
          "base_uri": "https://localhost:8080/",
          "height": 36
        },
        "outputId": "54c08719-2f0d-4d63-f246-1ca629b3d934"
      },
      "execution_count": 11,
      "outputs": [
        {
          "output_type": "execute_result",
          "data": {
            "text/plain": [
              "'11.09.2018'"
            ],
            "application/vnd.google.colaboratory.intrinsic+json": {
              "type": "string"
            }
          },
          "metadata": {},
          "execution_count": 11
        }
      ]
    },
    {
      "cell_type": "code",
      "source": [
        "# для парсинга заголовка: извлеките текст из тега h1\n",
        "soup2.find_all('h1')[0].text"
      ],
      "metadata": {
        "id": "sWIRCUdMCAOx",
        "colab": {
          "base_uri": "https://localhost:8080/",
          "height": 36
        },
        "outputId": "d8b8a2d7-fe3e-45bd-e120-0520ebbf990c"
      },
      "execution_count": 12,
      "outputs": [
        {
          "output_type": "execute_result",
          "data": {
            "text/plain": [
              "'Дефенестрация? Не, не слышал!'"
            ],
            "application/vnd.google.colaboratory.intrinsic+json": {
              "type": "string"
            }
          },
          "metadata": {},
          "execution_count": 12
        }
      ]
    },
    {
      "cell_type": "code",
      "source": [
        "# для парсинга текста: соберите все тексты из тега p и соедините в строку\n",
        "soup2.find_all('p')[0]"
      ],
      "metadata": {
        "id": "ZbJx5m49CCrd",
        "colab": {
          "base_uri": "https://localhost:8080/"
        },
        "outputId": "90773cd3-38a9-42cf-b15e-bd7d8932cb31"
      },
      "execution_count": 13,
      "outputs": [
        {
          "output_type": "execute_result",
          "data": {
            "text/plain": [
              "<p class=\"search-input-p\"><input class=\"search-input\" id=\"s\" name=\"s\" placeholder=\"Поиск по сайту\" type=\"text\" value=\"\"/></p>"
            ]
          },
          "metadata": {},
          "execution_count": 13
        }
      ]
    },
    {
      "cell_type": "code",
      "source": [
        "all_text = []\n",
        "for x in soup2.find_all('p'):\n",
        "    all_text.append(x.text)\n",
        "all_text = str(all_text)\n",
        "all_text"
      ],
      "metadata": {
        "id": "xBPgRo6cV-aV"
      },
      "execution_count": null,
      "outputs": []
    },
    {
      "cell_type": "code",
      "source": [
        "# автора собрать сложнее:\n",
        "# достаем из тега meta как на паре или из тега a с проверкой на содержимое атрибута rel\n",
        "soup2.find_all('meta')"
      ],
      "metadata": {
        "id": "ZId6Z8_hCUXm"
      },
      "execution_count": null,
      "outputs": []
    },
    {
      "cell_type": "code",
      "source": [
        "print(soup2.find_all('meta', {'name' : 'author'}))"
      ],
      "metadata": {
        "colab": {
          "base_uri": "https://localhost:8080/"
        },
        "id": "BItpQK_wZL-f",
        "outputId": "7030fd3b-a68d-4a55-e057-8906f2c2cc81"
      },
      "execution_count": 16,
      "outputs": [
        {
          "output_type": "stream",
          "name": "stdout",
          "text": [
            "[<meta content=\"Антонина Лапошина\" name=\"author\"/>]\n"
          ]
        }
      ]
    },
    {
      "cell_type": "code",
      "source": [
        "print(soup2.find_all('meta', {'name' : 'author'})[0])"
      ],
      "metadata": {
        "colab": {
          "base_uri": "https://localhost:8080/"
        },
        "id": "CpDWs5jcZgKi",
        "outputId": "f4b9639c-7751-4fe6-fcaa-b2a9c838c993"
      },
      "execution_count": 17,
      "outputs": [
        {
          "output_type": "stream",
          "name": "stdout",
          "text": [
            "<meta content=\"Антонина Лапошина\" name=\"author\"/>\n"
          ]
        }
      ]
    },
    {
      "cell_type": "code",
      "source": [
        "print(soup2.find_all('meta', {'name' : 'author'})[0].attrs)"
      ],
      "metadata": {
        "id": "d4VnOVBEZsWD",
        "colab": {
          "base_uri": "https://localhost:8080/"
        },
        "outputId": "5eccf226-16f2-4b4b-88a0-3bd837d5fc48"
      },
      "execution_count": 18,
      "outputs": [
        {
          "output_type": "stream",
          "name": "stdout",
          "text": [
            "{'name': 'author', 'content': 'Антонина Лапошина'}\n"
          ]
        }
      ]
    },
    {
      "cell_type": "code",
      "source": [
        "print(soup2.find_all('meta', {'name' : 'author'})[0].attrs['content'])"
      ],
      "metadata": {
        "colab": {
          "base_uri": "https://localhost:8080/"
        },
        "id": "XmjeNS1FaEXE",
        "outputId": "6700182e-3f3e-425b-9153-7ff95c98a4ee"
      },
      "execution_count": 19,
      "outputs": [
        {
          "output_type": "stream",
          "name": "stdout",
          "text": [
            "Антонина Лапошина\n"
          ]
        }
      ]
    },
    {
      "cell_type": "code",
      "source": [
        "# тематические категории:\n",
        "# <a rel=\"category tag\"> нужные нам категории </a>\n",
        "# можно попробовать так:\n",
        "# if i.get('rel') == ['category', 'tag']\n"
      ],
      "metadata": {
        "id": "l5mSYWsPCoBJ"
      },
      "execution_count": 20,
      "outputs": []
    },
    {
      "cell_type": "markdown",
      "source": [
        "### шаг 4"
      ],
      "metadata": {
        "id": "_Si6KFXkDV9d"
      }
    },
    {
      "cell_type": "code",
      "source": [
        "# пишем функцию по сбору информации\n",
        "def parsed_data (url0):\n",
        "  page0 = rq.get(url0)\n",
        "  soup0 = BeautifulSoup(page0.text, features=\"html.parser\")\n",
        "  date = soup0.find_all('time')[0].text\n",
        "  title = soup0.find_all('h1')[0].text\n",
        "  author = soup0.find_all('meta', {'name' : 'author'})[0].attrs['content']\n",
        "  text_content = soup0.find_all('p')\n",
        "  text = [i.text for i in text_content]\n",
        "  final_text = ' '.join(text)\n",
        "  #final_text = final_text.replace('\\xa0', ' ')\n",
        "  return url0, author, date, title, final_text\n"
      ],
      "metadata": {
        "id": "E8iEHxY7DYq2"
      },
      "execution_count": 21,
      "outputs": []
    },
    {
      "cell_type": "code",
      "source": [
        "news = [] # список с новостями\n",
        "\n",
        "for link in all_links:\n",
        "  new = parsed_data(link)\n",
        "  news.append(new)"
      ],
      "metadata": {
        "id": "RpPytGZOdN7U"
      },
      "execution_count": 22,
      "outputs": []
    },
    {
      "cell_type": "code",
      "source": [
        "# собираем все новости!\n",
        "# полезно использовать try / except\n"
      ],
      "metadata": {
        "id": "Tp4tcVgGDeJs"
      },
      "execution_count": null,
      "outputs": []
    },
    {
      "cell_type": "markdown",
      "source": [
        "### шаг 5"
      ],
      "metadata": {
        "id": "i2gKsPgUDkMf"
      }
    },
    {
      "cell_type": "code",
      "source": [
        "# соберите всю собранную информацию в датафрейм\n",
        "df = pd.DataFrame(news)\n",
        "df.head()"
      ],
      "metadata": {
        "id": "5Aj9qgg8DjiJ"
      },
      "execution_count": null,
      "outputs": []
    },
    {
      "cell_type": "code",
      "source": [
        "df[4]"
      ],
      "metadata": {
        "id": "_8bcSP5Gxd2e"
      },
      "execution_count": null,
      "outputs": []
    },
    {
      "cell_type": "code",
      "source": [
        "df.columns = ['link', 'author', 'date', 'title', 'text']"
      ],
      "metadata": {
        "id": "q_fpJ3f1DqvX"
      },
      "execution_count": 25,
      "outputs": []
    },
    {
      "cell_type": "code",
      "source": [
        "df.head()"
      ],
      "metadata": {
        "id": "1nIQmgeP41NY"
      },
      "execution_count": null,
      "outputs": []
    },
    {
      "cell_type": "code",
      "source": [
        "df.to_csv(\"Systemblok.csv\", encoding='utf-8')"
      ],
      "metadata": {
        "id": "APRN1mXZ5fti"
      },
      "execution_count": 27,
      "outputs": []
    },
    {
      "cell_type": "markdown",
      "source": [
        "Готово!\n",
        "Загрузите ваш код и собранные новости на GitHub"
      ],
      "metadata": {
        "id": "0lXQWScoDrFm"
      }
    }
  ]
}